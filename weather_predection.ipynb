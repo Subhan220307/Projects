{
  "nbformat": 4,
  "nbformat_minor": 0,
  "metadata": {
    "colab": {
      "provenance": []
    },
    "kernelspec": {
      "name": "python3",
      "display_name": "Python 3"
    },
    "language_info": {
      "name": "python"
    }
  },
  "cells": [
    {
      "cell_type": "code",
      "execution_count": null,
      "metadata": {
        "id": "Zy0p7hd3XtwC"
      },
      "outputs": [],
      "source": [
        "import requests\n",
        "import pandas as pd\n",
        "import numpy as np\n",
        "from sklearn.model_selection import train_test_split\n",
        "from sklearn.preprocessing import LabelEncoder\n",
        "from sklearn.ensemble import RandomForestClassifier, RandomForestRegressor\n",
        "from sklearn.metrics import mean_squared_error\n",
        "from datetime import datetime, timedelta\n",
        "import pytz"
      ]
    },
    {
      "cell_type": "code",
      "source": [
        "API_KEY = '15299fdd83f629facd0db187d121dd13'\n",
        "BASE_URL = 'https://api.openweathermap.org/data/2.5/'"
      ],
      "metadata": {
        "id": "FhF2MVd1fk-R"
      },
      "execution_count": null,
      "outputs": []
    },
    {
      "cell_type": "code",
      "source": [
        "def get_current_weather(city):\n",
        "    url = f'{BASE_URL}weather?q={city}&appid={API_KEY}&units=metric'\n",
        "    response = requests.get(url)\n",
        "    data = response.json()\n",
        "\n",
        "    return {\n",
        "        'current_temp': round(data['main']['temp']),\n",
        "        'feels_like': round(data['main']['feels_like']),\n",
        "        'humidity': round(data['main']['humidity']),\n",
        "        'temp_min': round(data['main']['temp_min']),\n",
        "        'temp_max': round(data['main']['temp_max']),\n",
        "        'description': data['weather'][0]['description'],\n",
        "        'wind_gust_dir': data['wind']['deg'],\n",
        "        'pressure': data['main']['pressure'],\n",
        "        'Wind_Gust_Speed': data['wind']['speed'],\n",
        "        'country': data['sys']['country'],\n",
        "    }"
      ],
      "metadata": {
        "id": "qSMBUDEvftc_"
      },
      "execution_count": null,
      "outputs": []
    },
    {
      "cell_type": "code",
      "source": [
        "def read_historical_data(filename):\n",
        "  df = pd.read_csv(filename)\n",
        "  df = df.dropna()\n",
        "  df = df.drop_duplicates()\n",
        "  return df"
      ],
      "metadata": {
        "id": "LrpcxnI7jdOB"
      },
      "execution_count": null,
      "outputs": []
    },
    {
      "cell_type": "code",
      "source": [
        "def prepare_data(data):\n",
        "  le = LabelEncoder()\n",
        "  data['WindGustDir'] = le.fit_transform(data['WindGustDir'])\n",
        "  data['RainTomorrow'] = le.fit_transform(data['RainTomorrow'])\n",
        "\n",
        "  x = data[['MinTemp','MaxTemp','WindGustDir','WindGustSpeed','Humidity','Pressure','Temp']]\n",
        "  y = data['RainTomorrow']\n",
        "\n",
        "  return x,y,le"
      ],
      "metadata": {
        "id": "ACOGA_RAlQy1"
      },
      "execution_count": null,
      "outputs": []
    },
    {
      "cell_type": "code",
      "source": [
        "def train_rain_model(x,y):\n",
        "  x_train,x_test,y_train,y_test = train_test_split(x,y,test_size=0.2, random_state=42)\n",
        "  model = RandomForestClassifier(n_estimators=100, random_state=42)\n",
        "  model.fit(x_train,y_train)\n",
        "\n",
        "  y_pred = model.predict(x_test)\n",
        "  print(\"Mean Squared Error for Rain Model\")\n",
        "  print(mean_squared_error(y_test,y_pred))\n",
        "\n",
        "  return model"
      ],
      "metadata": {
        "id": "yz-1FcPYnUaq"
      },
      "execution_count": null,
      "outputs": []
    },
    {
      "cell_type": "code",
      "source": [
        "def prepare_regression_data(data,feature):\n",
        "  x,y = [],[]\n",
        "\n",
        "  for i in range(len(data) -1):\n",
        "    x.append(data[feature].iloc[i])\n",
        "\n",
        "    y.append(data[feature].iloc[i+1])\n",
        "\n",
        "  x = np.array(x).reshape(-1,1)\n",
        "  y = np.array(y)\n",
        "  return x,y"
      ],
      "metadata": {
        "id": "OrH9eaybpkkT"
      },
      "execution_count": null,
      "outputs": []
    },
    {
      "cell_type": "code",
      "source": [
        "def train_regression_model(x,y):\n",
        "  model = RandomForestRegressor(n_estimators=100, random_state=42)\n",
        "  model.fit(x,y)\n",
        "  return model\n"
      ],
      "metadata": {
        "id": "Y51RTp_3rH-F"
      },
      "execution_count": null,
      "outputs": []
    },
    {
      "cell_type": "code",
      "source": [
        "def predict_future(model,current_value):\n",
        "  predictions = [current_value]\n",
        "\n",
        "  for i in range(5):\n",
        "    next_value = model.predict(np.array([[predictions[-1]]]))\n",
        "\n",
        "    predictions.append(next_value[0])\n",
        "    return predictions[1:]\n",
        "\n"
      ],
      "metadata": {
        "id": "HmJ2F34kruAK"
      },
      "execution_count": null,
      "outputs": []
    },
    {
      "cell_type": "code",
      "source": [
        "def weather_view():\n",
        "  city = input('Entry any city Name: ')\n",
        "  current_weather = get_current_weather(city)\n",
        "\n",
        "  historical_data = read_historical_data('/content/weather.csv')\n",
        "\n",
        "  x,y,le = prepare_data(historical_data)\n",
        "\n",
        "  rain_model = train_rain_model(x,y)\n",
        "  # Map wind direction to compass points\n",
        "  wind_deg = current_weather['wind_gust_dir'] % 360\n",
        "  compass_points = [\n",
        "      (\"N\", 0, 11.25), (\"NNE\", 11.25, 33.75), (\"NE\", 33.75, 56.25),\n",
        "      (\"ENE\", 56.25, 78.75), (\"E\", 78.75, 101.25), (\"ESE\", 101.25, 123.75),\n",
        "      (\"SE\", 123.75, 146.25), (\"SSE\", 146.25, 168.75), (\"S\", 168.75, 191.25),\n",
        "      (\"SSW\", 191.25, 213.75), (\"SW\", 213.75, 236.25), (\"WSW\", 236.25, 258.75),\n",
        "      (\"W\", 258.75, 281.25), (\"WNW\", 281.25, 303.75), (\"NW\", 303.75, 326.25),\n",
        "      (\"NNW\", 326.25, 348.75)\n",
        "  ]\n",
        "  compass_direction = next(point for point, start, end in compass_points if start <= wind_deg < end)\n",
        "  compass_direction_encoded = le.transform([compass_direction])[0] if compass_direction in le.classes_ else -1\n",
        "\n",
        "\n",
        "  current_data = {\n",
        "      'MinTemp': current_weather['temp_min'],\n",
        "      'MaxTemp': current_weather['temp_max'],\n",
        "      'WindGustDir': compass_direction_encoded,\n",
        "      'WindGustSpeed': current_weather['Wind_Gust_Speed'],\n",
        "      'Humidity': current_weather['humidity'],\n",
        "      'Pressure': current_weather['pressure'],\n",
        "      'Temp': current_weather['current_temp'],\n",
        "  }\n",
        "  current_df = pd.DataFrame([current_data])\n",
        "\n",
        "  rain_prediction = rain_model.predict(current_df)[0]\n",
        "\n",
        "  x_temp, y_temp = prepare_regression_data(historical_data, 'Temp')\n",
        "\n",
        "  x_hum, y_hum =prepare_regression_data(historical_data, 'Humidity')\n",
        "\n",
        "  temp_model = train_regression_model(x_temp, y_temp)\n",
        "\n",
        "  hum_model = train_regression_model(x_hum, y_hum)\n",
        "\n",
        "\n",
        "  future_temp = predict_future(hum_model,current_weather['temp_min'])\n",
        "  future_humidity = predict_future(hum_model,current_weather['humidity'])\n",
        "\n",
        "  timezone = pytz.timezone('Asia/Karachi')\n",
        "  now =datetime.now(timezone)\n",
        "  next_hour = now + timedelta(hours=1)\n",
        "  next_hour = next_hour.replace(minute=0, second=0, microsecond=0)\n",
        "\n",
        "  future_times = [(next_hour)]\n",
        "\n",
        "  # Display results\n",
        "  print(f\"City: {city}, {current_weather['country']}\")\n",
        "  print(f\"Current Temperature: {current_weather['current_temp']}\")\n",
        "  print(f\"Feels Like: {current_weather['feels_like']}\")\n",
        "  print(f\"Minimum Temperature: {current_weather['temp_min']}°C\")\n",
        "  print(f\"Maximum Temperature: {current_weather['temp_max']}°C\")\n",
        "  print(f\"Humidity: {current_weather['humidity']}%\")\n",
        "  print(f\"Weather Prediction: {current_weather['description']}\")\n",
        "  print(f\"Rain Prediction: {'Yes' if rain_prediction else 'No'}\")\n",
        "\n",
        "  print(\"\\nFuture Temperature Predictions:\")\n",
        "  for time, temp in zip(future_times, future_temp):\n",
        "      print(f\"{time}: {round(temp, 1)}°C\")\n",
        "\n",
        "  print(\"\\nFuture Humidity Predictions:\")\n",
        "  for time, humidity in zip(future_times, future_humidity):\n",
        "      print(f\"{time}: {round(humidity, 1)}%\")\n",
        "\n",
        "weather_view()\n",
        "\n"
      ],
      "metadata": {
        "colab": {
          "base_uri": "https://localhost:8080/"
        },
        "id": "m48aY9E8sxto",
        "outputId": "68f945c3-a83f-4997-ef9b-64bcfca479d6"
      },
      "execution_count": 12,
      "outputs": [
        {
          "output_type": "stream",
          "name": "stdout",
          "text": [
            "Entry any city Name: lahore\n",
            "Mean Squared Error for Rain Model\n",
            "0.1506849315068493\n",
            "City: lahore, PK\n",
            "Current Temperature: 22\n",
            "Feels Like: 22\n",
            "Minimum Temperature: 22°C\n",
            "Maximum Temperature: 22°C\n",
            "Humidity: 49%\n",
            "Weather Prediction: smoke\n",
            "Rain Prediction: Yes\n",
            "\n",
            "Future Temperature Predictions:\n",
            "2024-11-20 12:00:00+05:00: 35.1°C\n",
            "\n",
            "Future Humidity Predictions:\n",
            "2024-11-20 12:00:00+05:00: 48.6%\n"
          ]
        }
      ]
    }
  ]
}